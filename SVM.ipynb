{
  "nbformat": 4,
  "nbformat_minor": 0,
  "metadata": {
    "colab": {
      "name": "hate_0909.ipynb",
      "provenance": [],
      "collapsed_sections": []
    },
    "kernelspec": {
      "name": "python3",
      "display_name": "Python 3"
    },
    "language_info": {
      "name": "python"
    }
  },
  "cells": [
    {
      "cell_type": "code",
      "metadata": {
        "id": "DgR3f04j_zCk"
      },
      "source": [
        "!apt-get update #리눅스 명령어\n",
        "\n",
        "!apt-get install g++ openjdk-8-jdk\n",
        "\n",
        "!pip install konlpy JPype1-py3\n",
        "\n",
        "!bash <(curl -s https://raw.githubusercontent.com/konlpy/konlpy/master/scripts/mecab.sh)\n",
        "\n",
        "import pandas as pd\n",
        "from google.colab import drive"
      ],
      "execution_count": null,
      "outputs": []
    },
    {
      "cell_type": "code",
      "metadata": {
        "colab": {
          "base_uri": "https://localhost:8080/"
        },
        "id": "bcCfjpCaACmH",
        "outputId": "1347552e-391b-423e-e203-3b64670b4632"
      },
      "source": [
        "drive.mount('/content/gdrive')  # 리눅스에서 장치를 등록할 때 mount\n",
        "#링크에 들어가서 로그인 코드 복사해야함"
      ],
      "execution_count": null,
      "outputs": [
        {
          "output_type": "stream",
          "name": "stdout",
          "text": [
            "Mounted at /content/gdrive\n"
          ]
        }
      ]
    },
    {
      "cell_type": "code",
      "metadata": {
        "id": "bJ0JdJNDAF-v"
      },
      "source": [
        "from sklearn.model_selection import train_test_split\n",
        "\n",
        "df_data = pd.read_excel(\"/content/gdrive/My Drive/Colab Notebooks/advancedProject/comment_gender.xlsx\")\n",
        "X = df_data[\"contents\"]\n",
        "y = df_data[\"label\"]\n",
        "X_train, X_test, y_train, y_test = train_test_split(X, y, random_state = 42)"
      ],
      "execution_count": null,
      "outputs": []
    },
    {
      "cell_type": "code",
      "metadata": {
        "id": "Mg-d-99kAGB1"
      },
      "source": [
        "from konlpy.tag import Mecab\n",
        "\n",
        "from sklearn.feature_extraction.text import TfidfVectorizer\n",
        "#의미없이 중복되는 글자들 제거\n",
        "\n",
        "tokenizer = Mecab()\n",
        "def mecab_tokenizer(text):\n",
        "  return tokenizer.morphs(text)"
      ],
      "execution_count": null,
      "outputs": []
    },
    {
      "cell_type": "code",
      "metadata": {
        "id": "iPkhSd2UAGFl",
        "colab": {
          "base_uri": "https://localhost:8080/"
        },
        "outputId": "1ae0f1ee-1d49-4525-d0d5-fe07b6633b11"
      },
      "source": [
        "tfidf = TfidfVectorizer(tokenizer=mecab_tokenizer,\n",
        "                        ngram_range=(1,3), min_df=2, max_df=0.9) \n",
        "\n",
        "df_train_tfidf = tfidf.fit_transform(X_train)\n",
        "df_test_tfidf = tfidf.transform(X_test)"
      ],
      "execution_count": null,
      "outputs": [
        {
          "output_type": "execute_result",
          "data": {
            "text/plain": [
              "(121, 1636)"
            ]
          },
          "metadata": {},
          "execution_count": 7
        }
      ]
    },
    {
      "cell_type": "code",
      "metadata": {
        "colab": {
          "base_uri": "https://localhost:8080/"
        },
        "id": "_Ef9K2r4AGI1",
        "outputId": "74610d1f-341f-45d1-a147-0ee73a91a825"
      },
      "source": [
        "from sklearn.svm import LinearSVC\n",
        "svm = LinearSVC(C=0.21)\n",
        "\n",
        "svm.fit(df_train_tfidf, y_train)"
      ],
      "execution_count": null,
      "outputs": [
        {
          "output_type": "execute_result",
          "data": {
            "text/plain": [
              "LinearSVC(C=0.21, class_weight=None, dual=True, fit_intercept=True,\n",
              "          intercept_scaling=1, loss='squared_hinge', max_iter=1000,\n",
              "          multi_class='ovr', penalty='l2', random_state=None, tol=0.0001,\n",
              "          verbose=0)"
            ]
          },
          "metadata": {},
          "execution_count": 6
        }
      ]
    },
    {
      "cell_type": "code",
      "metadata": {
        "colab": {
          "base_uri": "https://localhost:8080/"
        },
        "id": "L9AJXeI6AGLt",
        "outputId": "faed6bee-3d34-4c12-c375-38d1ca1e8e97"
      },
      "source": [
        "svm.score(df_train_tfidf, y_train)"
      ],
      "execution_count": null,
      "outputs": [
        {
          "output_type": "execute_result",
          "data": {
            "text/plain": [
              "0.9972375690607734"
            ]
          },
          "metadata": {},
          "execution_count": 7
        }
      ]
    },
    {
      "cell_type": "code",
      "metadata": {
        "colab": {
          "base_uri": "https://localhost:8080/"
        },
        "id": "1nQwSOKnIwKh",
        "outputId": "c16a0060-89e1-4fcf-928d-f07de50e187c"
      },
      "source": [
        "svm.score(df_test_tfidf, y_test)"
      ],
      "execution_count": null,
      "outputs": [
        {
          "output_type": "execute_result",
          "data": {
            "text/plain": [
              "0.8677685950413223"
            ]
          },
          "metadata": {},
          "execution_count": 8
        }
      ]
    },
    {
      "cell_type": "code",
      "metadata": {
        "colab": {
          "base_uri": "https://localhost:8080/"
        },
        "id": "3-zddo3XAGOe",
        "outputId": "9a9c75de-bd89-4a7b-8474-f46ea4c98657"
      },
      "source": [
        "mes = [\"\"]\n",
        "# mes_tfidf = tfidf.transform(mes) #글자를 숫자로 변환\n",
        "# mes_hate = svm.predict(mes_tfidf) #분류기가 판별\n",
        "# mes_hate"
      ],
      "execution_count": null,
      "outputs": [
        {
          "output_type": "execute_result",
          "data": {
            "text/plain": [
              "array([2])"
            ]
          },
          "metadata": {},
          "execution_count": 9
        }
      ]
    },
    {
      "cell_type": "code",
      "metadata": {
        "id": "E5nEI3kduEeW"
      },
      "source": [
        "mes_tfidf = tfidf.transform(mes) #글자를 숫자로 변환\n",
        "mes_hate = svm.predict(mes_tfidf) #분류기가 판별\n",
        "mes_hate"
      ],
      "execution_count": null,
      "outputs": []
    },
    {
      "cell_type": "code",
      "metadata": {
        "id": "Ir2jJhn6uEhu"
      },
      "source": [
        ""
      ],
      "execution_count": null,
      "outputs": []
    },
    {
      "cell_type": "code",
      "metadata": {
        "id": "l63JieaTuEkt"
      },
      "source": [
        ""
      ],
      "execution_count": null,
      "outputs": []
    },
    {
      "cell_type": "code",
      "metadata": {
        "id": "tFqaeGkwuEnl"
      },
      "source": [
        ""
      ],
      "execution_count": null,
      "outputs": []
    },
    {
      "cell_type": "code",
      "metadata": {
        "id": "C3cyfPJSuEqd"
      },
      "source": [
        ""
      ],
      "execution_count": null,
      "outputs": []
    },
    {
      "cell_type": "code",
      "metadata": {
        "id": "FqWaJFqluEtN"
      },
      "source": [
        ""
      ],
      "execution_count": null,
      "outputs": []
    },
    {
      "cell_type": "code",
      "metadata": {
        "id": "G7adVVg2uEv_"
      },
      "source": [
        ""
      ],
      "execution_count": null,
      "outputs": []
    }
  ]
}