{
 "cells": [
  {
   "cell_type": "code",
   "execution_count": 3,
   "id": "87d21418",
   "metadata": {},
   "outputs": [
    {
     "name": "stdout",
     "output_type": "stream",
     "text": [
      "\n",
      "백인 경찰의 과잉 진압으로 흑인 남성 '조지 플로이드'가 숨진 사건, 지난 한 해 미국 사회를 뒤 흔들었죠.\n",
      "이번엔 '로널드 그린'이라는 흑인 남성이 경찰들에게 잔인하게 폭행 당한 뒤 숨진 사실이 2년 만에 세상에 공개됐습니다.\n",
      "더보기\n",
      "우리나라 경찰도 권력 강화가 아니라 제압 메뉴얼이나 강화해야 되는건가..?\n",
      "왜  옛날처럼 안타깝다라는 생각이 안들지\n",
      "흑인들의  아시아인 인종차별 ㅅㅋ들 때문인가\n",
      "맙소사\n",
      "내로남불하는 흑인들이 뭐가 불쌍하다고..\n",
      "오히려 저런 흑인 대우가 안 바뀌는건 좋네.\n",
      "흑인이 피해자처럼 보여도 \n",
      "경찰들이 저렇게하는건 분명 이유가 있을거에요\n",
      "이건 불쌍하고 무고하다고 생각함. 근데 조지 플로이드랑은 다르지.\n",
      "니그로 몽키도 형제입니다.화이트는 상전이 아닙니다\n",
      "기자가 경찰을 사칭한 MBC가 누굴 비난해? 애당초 비판의 자격조차 있냐 ㅋㅋㅋㅋㅋㅋㅋㅋㅋㅋ\n",
      "미국경찰놈들도 거짓말을 밥 아니, 도넛 먹듯이 하나 보네요.\n",
      "우리나라 댓글들보면 범죄자에게 인권이어딨냐 콩밥도 아깝다 사형시켜라 이런글들이 월등히 많은데 이영상에선 왜 범죄자의 인권을 생각하죠? 글쓴놈은 똑같은 놈인거같은데\n",
      "에구 백인에게 흑인은 개,돼지 ...\n",
      "자신들이\n",
      " 받은 멸시 차멸 푸는데 동양인 때리고 죽여도 아무도 관심없는 인권의 종국 어메리카...\n",
      "명백한 살인 무서워요 그냥 있는데 전기총쏘고 끝내 죽이네 이 경찰들이 KKK\n",
      "백인은 흑인 괴롭히고\n",
      "흑인은 동양인 괴롭히고\n",
      "요즘은 흑인 차별받는 영상봐도\n",
      "안쓰럽다는 생각이 안든다\n",
      "과속을했으면 멈추고 벌금딱지나 받지 왜 도망을가?\n",
      "그냥 어떻게서든 BLM 몰고 갈려고\n",
      "루이지애나주 …\n",
      "다른건 몰라도 CCTV랑 바디캠은  진짜 필수적인 것 같다. 선생, 경찰, 검찰,  의사 공무원 가릴 거 없이\n",
      "흑인은 뭐다?\n",
      "울나라의 검새 판새놈들\n",
      "같네!\n",
      "영상제목 바꿔주세요..조지 플로이드는 40대인데 전과 9범에 임산부에게 총을 겨누며 갈취한 극악무도한 범죄자입니다\n",
      "심지어 체포전에 호흡곤란을 오게 하는 마약을 복용했고 저항을 했으며 수갑 찬 이후로 눕히기전에 숨쉬기 힘들다고까지 말했습니다\n",
      "자세히 보기\n",
      "저런 치안을 가진게 미국임 부패한 더러운 나라\n",
      "범죄 짓지말고 순순히 경찰 지시에 따르면 이런일 없다. 미국에서 흑인 범죄자로부터 죽는 경찰들이 얼마나 많은지 알고있음? 전혀 안타까워 보이지 않다.\n",
      "이건 뭐 경찰이 살인자인지 뭔지 알 수가 없네ㅋㅋ\n"
     ]
    }
   ],
   "source": [
    "import pandas as pd\n",
    "from selenium import webdriver\n",
    "from selenium.webdriver.common.keys import Keys \n",
    "import time \n",
    "\n",
    "driver = webdriver.Chrome('c:/Users/admin/chromedriver.exe')\n",
    "driver.get('https://www.youtube.com/watch?v=spf5msymj_8')\n",
    "\n",
    "time.sleep(3)\n",
    "\n",
    "\n",
    "e = driver.find_element_by_tag_name('body')\n",
    "for i in range(100):\n",
    "  e.send_keys(Keys.PAGE_DOWN)\n",
    "  time.sleep(1)\n",
    "    \n",
    "contents_list = []\n",
    "\n",
    "for i in range(500):\n",
    "  try : \n",
    "    e = driver.find_elements_by_css_selector('div.style-scope ytd-expander')[i].text\n",
    "    print(e)\n",
    "  except : \n",
    "    pass\n",
    "\n",
    "\n",
    "\n",
    "df = pd.DataFrame(\n",
    "        {\"contents\":contents_list})\n",
    "df[\"label\"] = \"\"  \n",
    "df = df[['label', 'contents']]\n",
    "\n",
    "comment_data1 = df.to_excel(\"comment2.xlsx\", index=False)\n",
    "comment_data1\n",
    "    \n",
    "    "
   ]
  },
  {
   "cell_type": "code",
   "execution_count": null,
   "id": "33c560ea",
   "metadata": {},
   "outputs": [],
   "source": []
  }
 ],
 "metadata": {
  "kernelspec": {
   "display_name": "Python 3",
   "language": "python",
   "name": "python3"
  },
  "language_info": {
   "codemirror_mode": {
    "name": "ipython",
    "version": 3
   },
   "file_extension": ".py",
   "mimetype": "text/x-python",
   "name": "python",
   "nbconvert_exporter": "python",
   "pygments_lexer": "ipython3",
   "version": "3.8.8"
  }
 },
 "nbformat": 4,
 "nbformat_minor": 5
}
